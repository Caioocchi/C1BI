{
 "cells": [
  {
   "cell_type": "code",
   "execution_count": 67,
   "metadata": {},
   "outputs": [],
   "source": [
    "import pandas as pd\n",
    "import sqlite3 as sql"
   ]
  },
  {
   "cell_type": "code",
   "execution_count": 15,
   "metadata": {},
   "outputs": [
    {
     "name": "stderr",
     "output_type": "stream",
     "text": [
      "C:\\Users\\caio_\\AppData\\Local\\Temp\\ipykernel_6880\\3444776212.py:1: FutureWarning: The error_bad_lines argument has been deprecated and will be removed in a future version. Use on_bad_lines in the future.\n",
      "\n",
      "\n",
      "  x = pd.read_csv(\"MICRODADOS.csv\", encoding=\"latin-1\", sep=\";\", error_bad_lines=False)\n",
      "C:\\Users\\caio_\\AppData\\Local\\Temp\\ipykernel_6880\\3444776212.py:1: DtypeWarning: Columns (5,6) have mixed types. Specify dtype option on import or set low_memory=False.\n",
      "  x = pd.read_csv(\"MICRODADOS.csv\", encoding=\"latin-1\", sep=\";\", error_bad_lines=False)\n"
     ]
    }
   ],
   "source": [
    "x = pd.read_csv(\"MICRODADOS.csv\", encoding=\"latin-1\", sep=\";\", error_bad_lines=False)"
   ]
  },
  {
   "cell_type": "code",
   "execution_count": 68,
   "metadata": {},
   "outputs": [
    {
     "name": "stdout",
     "output_type": "stream",
     "text": [
      "Index(['DataNotificacao', 'DataCadastro', 'DataDiagnostico',\n",
      "       'DataColeta_RT_PCR', 'DataColetaTesteRapido', 'DataColetaSorologia',\n",
      "       'DataColetaSorologiaIGG', 'DataEncerramento', 'DataObito',\n",
      "       'Classificacao', 'Evolucao', 'CriterioConfirmacao', 'StatusNotificacao',\n",
      "       'Municipio', 'Bairro', 'FaixaEtaria', 'IdadeNaDataNotificacao', 'Sexo',\n",
      "       'RacaCor', 'Escolaridade', 'Gestante', 'Febre',\n",
      "       'DificuldadeRespiratoria', 'Tosse', 'Coriza', 'DorGarganta', 'Diarreia',\n",
      "       'Cefaleia', 'ComorbidadePulmao', 'ComorbidadeCardio',\n",
      "       'ComorbidadeRenal', 'ComorbidadeDiabetes', 'ComorbidadeTabagismo',\n",
      "       'ComorbidadeObesidade', 'FicouInternado', 'ViagemBrasil',\n",
      "       'ViagemInternacional', 'ProfissionalSaude', 'PossuiDeficiencia',\n",
      "       'MoradorDeRua', 'ResultadoRT_PCR', 'ResultadoTesteRapido',\n",
      "       'ResultadoSorologia', 'ResultadoSorologia_IGG', 'TipoTesteRapido'],\n",
      "      dtype='object')\n"
     ]
    }
   ],
   "source": [
    "print(x.columns)"
   ]
  },
  {
   "cell_type": "code",
   "execution_count": 69,
   "metadata": {},
   "outputs": [],
   "source": [
    "conn = sql.connect('tab_fato.db')"
   ]
  },
  {
   "cell_type": "code",
   "execution_count": 70,
   "metadata": {},
   "outputs": [],
   "source": [
    "data = x[['DataNotificacao', 'DataCadastro', 'DataDiagnostico', 'DataColeta_RT_PCR',\n",
    "            'DataColetaTesteRapido', 'DataColetaSorologia', 'DataColetaSorologiaIGG',\n",
    "            'DataEncerramento', 'DataObito']].drop_duplicates().reset_index(drop=True)"
   ]
  },
  {
   "cell_type": "code",
   "execution_count": 71,
   "metadata": {},
   "outputs": [],
   "source": [
    "sintomas = x[['Febre',\n",
    "       'DificuldadeRespiratoria', 'Tosse', 'Coriza', 'DorGarganta', 'Diarreia',\n",
    "       'Cefaleia']].drop_duplicates().reset_index(drop=True)"
   ]
  },
  {
   "cell_type": "code",
   "execution_count": 72,
   "metadata": {},
   "outputs": [],
   "source": [
    "cep = x[['Municipio', 'Bairro']].drop_duplicates().reset_index(drop=True)"
   ]
  },
  {
   "cell_type": "code",
   "execution_count": 73,
   "metadata": {},
   "outputs": [],
   "source": [
    "comorbidades = x[['ComorbidadePulmao', 'ComorbidadeCardio',\n",
    "       'ComorbidadeRenal', 'ComorbidadeDiabetes', 'ComorbidadeTabagismo',\n",
    "       'ComorbidadeObesidade']].drop_duplicates().reset_index(drop=True)"
   ]
  },
  {
   "cell_type": "code",
   "execution_count": 74,
   "metadata": {},
   "outputs": [],
   "source": [
    "tab_fato = x[['Evolucao']].reset_index(drop=True)"
   ]
  },
  {
   "cell_type": "code",
   "execution_count": 75,
   "metadata": {},
   "outputs": [],
   "source": [
    "tab_fato['data_id'] = tab_fato.reset_index().index\n",
    "tab_fato['sintomas_id'] = tab_fato.reset_index().index\n",
    "tab_fato['cep_id'] = tab_fato.reset_index().index\n",
    "tab_fato['comorbidades_id'] = tab_fato.reset_index().index"
   ]
  },
  {
   "cell_type": "code",
   "execution_count": 76,
   "metadata": {},
   "outputs": [],
   "source": [
    "data['data_id'] = data.index\n",
    "sintomas['sintomas_id'] = sintomas.index\n",
    "cep['cep_id'] = cep.index\n",
    "comorbidades['comorbidades_id'] = comorbidades.index"
   ]
  },
  {
   "cell_type": "code",
   "execution_count": 77,
   "metadata": {},
   "outputs": [],
   "source": [
    "tab_fato = tab_fato.merge(data, on='data_id', how='left')\n",
    "tab_fato['data_id'] = tab_fato['data_id'].fillna(-1).astype(int)\n",
    "\n",
    "tab_fato = tab_fato.merge(sintomas, on='sintomas_id', how='left')\n",
    "tab_fato['sintomas_id'] = tab_fato['sintomas_id'].fillna(-1).astype(int)\n",
    "\n",
    "tab_fato = tab_fato.merge(cep, on='cep_id', how='left')\n",
    "tab_fato['cep_id'] = tab_fato['cep_id'].fillna(-1).astype(int)\n",
    "\n",
    "tab_fato = tab_fato.merge(comorbidades, on='comorbidades_id', how='left')\n",
    "tab_fato['comorbidades_id'] = tab_fato['comorbidades_id'].fillna(-1).astype(int)"
   ]
  },
  {
   "cell_type": "code",
   "execution_count": 78,
   "metadata": {},
   "outputs": [],
   "source": [
    "tab_fato = tab_fato.merge(data, on='data_id', how='left')\n",
    "\n",
    "tab_fato = tab_fato.merge(sintomas, on='sintomas_id', how='left')\n",
    "\n",
    "tab_fato = tab_fato.merge(cep, on='cep_id', how='left')\n",
    "\n",
    "tab_fato = tab_fato.merge(comorbidades, on='comorbidades_id', how='left')"
   ]
  },
  {
   "cell_type": "code",
   "execution_count": 66,
   "metadata": {},
   "outputs": [
    {
     "data": {
      "text/plain": [
       "422026"
      ]
     },
     "execution_count": 66,
     "metadata": {},
     "output_type": "execute_result"
    }
   ],
   "source": [
    "x.to_sql('tab_fato', conn, if_exists='replace', index=False)\n",
    "x.to_sql('data', conn, if_exists='replace', index=False)\n",
    "x.to_sql('sintomas', conn, if_exists='replace', index=False)\n",
    "x.to_sql('cep', conn, if_exists='replace', index=False)\n",
    "x.to_sql('comorbidades', conn, if_exists='replace', index=False)"
   ]
  }
 ],
 "metadata": {
  "kernelspec": {
   "display_name": "base",
   "language": "python",
   "name": "python3"
  },
  "language_info": {
   "codemirror_mode": {
    "name": "ipython",
    "version": 3
   },
   "file_extension": ".py",
   "mimetype": "text/x-python",
   "name": "python",
   "nbconvert_exporter": "python",
   "pygments_lexer": "ipython3",
   "version": "3.10.9"
  },
  "orig_nbformat": 4
 },
 "nbformat": 4,
 "nbformat_minor": 2
}
